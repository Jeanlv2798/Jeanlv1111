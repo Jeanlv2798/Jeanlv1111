{
  "nbformat": 4,
  "nbformat_minor": 0,
  "metadata": {
    "colab": {
      "name": "torch_practiseLinear.ipynb",
      "provenance": [],
      "collapsed_sections": []
    },
    "kernelspec": {
      "name": "python3",
      "display_name": "Python 3"
    },
    "accelerator": "GPU"
  },
  "cells": [
    {
      "cell_type": "markdown",
      "metadata": {
        "id": "uLPEqlofMGMF",
        "colab_type": "text"
      },
      "source": [
        "˙ 최건호, 『파이토치 첫걸음』, 한빛미디어 Ch03 션형회귀분석 부분을 토대로 학습합니다"
      ]
    },
    {
      "cell_type": "code",
      "metadata": {
        "id": "3DGYtfirFo0m",
        "colab_type": "code",
        "colab": {}
      },
      "source": [
        "import torch"
      ],
      "execution_count": 0,
      "outputs": []
    },
    {
      "cell_type": "code",
      "metadata": {
        "id": "6I2FH7dbHYuG",
        "colab_type": "code",
        "outputId": "30fcce22-6a0b-4cf2-cf1a-7b74beaa3b76",
        "colab": {
          "base_uri": "https://localhost:8080/",
          "height": 53
        }
      },
      "source": [
        "# 데이터의 기본 단위 : Tensor, 다차원 배열(array)\n",
        "# (2, 3) shape로 텐서 안 원소에는 임의 난수가 들어감\n",
        "X = torch.Tensor(2,3)\n",
        "X"
      ],
      "execution_count": 26,
      "outputs": [
        {
          "output_type": "execute_result",
          "data": {
            "text/plain": [
              "tensor([[1.6281e-35, 0.0000e+00, 4.4842e-44],\n",
              "        [0.0000e+00,        nan, 1.3312e-43]])"
            ]
          },
          "metadata": {
            "tags": []
          },
          "execution_count": 26
        }
      ]
    },
    {
      "cell_type": "markdown",
      "metadata": {
        "id": "wUXutQI1NXd6",
        "colab_type": "text"
      },
      "source": [
        "˙인수 (Argument) : 함수를 호출할 때 사용되는 값 </br>\n",
        "˙인자 (Parameter) : 함수 정의 시 외부로부터 받아들이는 임의의 값"
      ]
    },
    {
      "cell_type": "code",
      "metadata": {
        "id": "7aec9ezGHihR",
        "colab_type": "code",
        "outputId": "5388637e-14a7-4a02-9a55-7d5d5ca99d9f",
        "colab": {
          "base_uri": "https://localhost:8080/",
          "height": 53
        }
      },
      "source": [
        "X = torch.Tensor([[1, 2, 3], [4, 5, 6]])\n",
        "X"
      ],
      "execution_count": 27,
      "outputs": [
        {
          "output_type": "execute_result",
          "data": {
            "text/plain": [
              "tensor([[1., 2., 3.],\n",
              "        [4., 5., 6.]])"
            ]
          },
          "metadata": {
            "tags": []
          },
          "execution_count": 27
        }
      ]
    },
    {
      "cell_type": "code",
      "metadata": {
        "id": "hRCssvkvHwNb",
        "colab_type": "code",
        "outputId": "34f9e668-b0b8-4540-d3a3-587c8dc87e66",
        "colab": {
          "base_uri": "https://localhost:8080/",
          "height": 35
        }
      },
      "source": [
        "# 기울기 계산\n",
        "x = torch.tensor(data=[2.0, 3.0], requires_grad=True)  # requires_grad -> 기울기 저장 여부\n",
        "y = x**2\n",
        "z = 2*y + 3\n",
        "target = torch.tensor([3.0, 4.0]) # 목표값\n",
        "loss = torch.sum(torch.abs(z-target))\n",
        "loss.backward()\n",
        "\n",
        "print('x.grad :', x.grad, 'y.grad:', y.grad, 'z.gard:', z.grad)"
      ],
      "execution_count": 28,
      "outputs": [
        {
          "output_type": "stream",
          "text": [
            "x.grad : tensor([ 8., 12.]) y.grad: None z.gard: None\n"
          ],
          "name": "stdout"
        }
      ]
    },
    {
      "cell_type": "code",
      "metadata": {
        "id": "lXNi4UWXIjeL",
        "colab_type": "code",
        "colab": {
          "base_uri": "https://localhost:8080/",
          "height": 107
        },
        "outputId": "9fd974aa-7947-419d-bc6e-5eaeff87603c"
      },
      "source": [
        "# 선형회귀분석 모델 구현\n",
        "import torch.nn as nn # 신경망 모델\n",
        "import torch.optim as optim # 경사하강법\n",
        "import torch.nn.init as init # 텐서에 초깃값을 주기 위해 필요\n",
        "\n",
        "data = 1000\n",
        "epochs = 500\n",
        "# (1000, 1) 모양의 tensor 생성, 이걸 init.uniform_함수를 통해 -10, 10의 범위로 uniformly하게 초기화\n",
        "x = init.uniform_(torch.Tensor(data, 1), -10, 10)\n",
        "x[:5]\n"
      ],
      "execution_count": 29,
      "outputs": [
        {
          "output_type": "execute_result",
          "data": {
            "text/plain": [
              "tensor([[-1.7159],\n",
              "        [-3.2257],\n",
              "        [ 2.8610],\n",
              "        [ 5.4851],\n",
              "        [-7.4917]])"
            ]
          },
          "metadata": {
            "tags": []
          },
          "execution_count": 29
        }
      ]
    },
    {
      "cell_type": "code",
      "metadata": {
        "id": "DhEHJYJYQEub",
        "colab_type": "code",
        "colab": {
          "base_uri": "https://localhost:8080/",
          "height": 107
        },
        "outputId": "1cb59fa8-0ad8-41ab-c91b-3389d55bb352"
      },
      "source": [
        "noise = init.normal_(torch.Tensor(data, 1), std=1)\n",
        "noise[:5]"
      ],
      "execution_count": 30,
      "outputs": [
        {
          "output_type": "execute_result",
          "data": {
            "text/plain": [
              "tensor([[-0.7932],\n",
              "        [ 0.0857],\n",
              "        [ 0.7749],\n",
              "        [ 0.2599],\n",
              "        [-0.0230]])"
            ]
          },
          "metadata": {
            "tags": []
          },
          "execution_count": 30
        }
      ]
    },
    {
      "cell_type": "code",
      "metadata": {
        "id": "4n6Vsf4dQNwb",
        "colab_type": "code",
        "colab": {}
      },
      "source": [
        "# y는 x에 대한 종속 변수, 연산을 통해 값 초기화\n",
        "y = 2*x + 3\n",
        "# noise 추가하는 이유는 보통 들어오는 데이터들은 노이즈 추가되어 있음, 현실성 반영 위해 추가\n",
        "y_noise = 2*(x+noise)+3"
      ],
      "execution_count": 0,
      "outputs": []
    },
    {
      "cell_type": "code",
      "metadata": {
        "id": "nHRqf8CoNmDT",
        "colab_type": "code",
        "colab": {}
      },
      "source": [
        "model = nn.Linear(1, 1)  # 들어오는 feature 수, 결과 나오는 특성 수, 편차 사용 여부 초기 인수로 받아서 생성\n",
        "# 변수는 weight, bias\n",
        "# 우리 데이터는 x, y 모두 1개의 특성을 가진 데이터 1000개니까 인수 모델을 (1, 1)\n",
        "loss_func = nn.L1Loss() # L1 손실 = sum(abs(x, y))/n"
      ],
      "execution_count": 0,
      "outputs": []
    },
    {
      "cell_type": "code",
      "metadata": {
        "id": "dwWkCf_FNqn3",
        "colab_type": "code",
        "colab": {}
      },
      "source": [
        "# 최적화할 변수로 model.parameters() 함수 사용해 선형 회귀 모델의 변수 w, b 전달 \n",
        "optimizer = optim.SGD(model.parameters(), lr=0.01)"
      ],
      "execution_count": 0,
      "outputs": []
    },
    {
      "cell_type": "code",
      "metadata": {
        "id": "5nbUQLXqRav_",
        "colab_type": "code",
        "outputId": "d613f0b3-9f86-47b1-d13d-54297121c8dc",
        "colab": {
          "base_uri": "https://localhost:8080/",
          "height": 1000
        }
      },
      "source": [
        "loss_arr =[]\n",
        "label = y_noise\n",
        "for i in range(epochs):\n",
        "  optimizer.zero_grad() # 각 반복시 학습했던 기울기를 0으로 초기화\n",
        "  output = model(x) # 선형 회귀 모델에 x를 전달, 결과를 output 변수에 저장\n",
        "\n",
        "  loss = loss_func(output, label)\n",
        "  loss_arr.append(loss)\n",
        "  loss.backward()\n",
        "  optimizer.step() # 인수로 들어갔던 model.params에서 리턴되는 변수의 기울기에 lr을 곱해서 빼주고 업뎃\n",
        "\n",
        "  if i % 10 == 0:\n",
        "    print('loss.data:', loss.data)\n",
        "    param_list = list(model.parameters())\n",
        "    print('w= ', param_list[0].item(), '| b =', param_list[1].item())\n"
      ],
      "execution_count": 43,
      "outputs": [
        {
          "output_type": "stream",
          "text": [
            "loss.data: tensor(1.5183)\n",
            "w=  1.9845234155654907 | b = 2.9200079441070557\n",
            "loss.data: tensor(1.5182)\n",
            "w=  1.9842411279678345 | b = 2.9215476512908936\n",
            "loss.data: tensor(1.5182)\n",
            "w=  1.9841395616531372 | b = 2.923107385635376\n",
            "loss.data: tensor(1.5182)\n",
            "w=  1.9839826822280884 | b = 2.9244868755340576\n",
            "loss.data: tensor(1.5182)\n",
            "w=  1.9838258028030396 | b = 2.9258663654327393\n",
            "loss.data: tensor(1.5182)\n",
            "w=  1.9836689233779907 | b = 2.927245855331421\n",
            "loss.data: tensor(1.5181)\n",
            "w=  1.983512043952942 | b = 2.9286253452301025\n",
            "loss.data: tensor(1.5181)\n",
            "w=  1.983355164527893 | b = 2.930004835128784\n",
            "loss.data: tensor(1.5181)\n",
            "w=  1.9831902980804443 | b = 2.9311840534210205\n",
            "loss.data: tensor(1.5181)\n",
            "w=  1.9830446243286133 | b = 2.9323432445526123\n",
            "loss.data: tensor(1.5181)\n",
            "w=  1.9830769300460815 | b = 2.9333627223968506\n",
            "loss.data: tensor(1.5181)\n",
            "w=  1.9829257726669312 | b = 2.9342033863067627\n",
            "loss.data: tensor(1.5181)\n",
            "w=  1.982935905456543 | b = 2.9350242614746094\n",
            "loss.data: tensor(1.5181)\n",
            "w=  1.9830684661865234 | b = 2.9357452392578125\n",
            "loss.data: tensor(1.5180)\n",
            "w=  1.983201026916504 | b = 2.9364662170410156\n",
            "loss.data: tensor(1.5180)\n",
            "w=  1.9831722974777222 | b = 2.9372072219848633\n",
            "loss.data: tensor(1.5180)\n",
            "w=  1.9833048582077026 | b = 2.9379281997680664\n",
            "loss.data: tensor(1.5180)\n",
            "w=  1.983437418937683 | b = 2.9386491775512695\n",
            "loss.data: tensor(1.5180)\n",
            "w=  1.9835699796676636 | b = 2.9393701553344727\n",
            "loss.data: tensor(1.5180)\n",
            "w=  1.9835412502288818 | b = 2.9401111602783203\n",
            "loss.data: tensor(1.5180)\n",
            "w=  1.9836490154266357 | b = 2.940812110900879\n",
            "loss.data: tensor(1.5180)\n",
            "w=  1.9836949110031128 | b = 2.941312789916992\n",
            "loss.data: tensor(1.5180)\n",
            "w=  1.9837578535079956 | b = 2.9417734146118164\n",
            "loss.data: tensor(1.5180)\n",
            "w=  1.9837106466293335 | b = 2.942133903503418\n",
            "loss.data: tensor(1.5180)\n",
            "w=  1.983697533607483 | b = 2.9424142837524414\n",
            "loss.data: tensor(1.5180)\n",
            "w=  1.9837092161178589 | b = 2.9425344467163086\n",
            "loss.data: tensor(1.5180)\n",
            "w=  1.9836493730545044 | b = 2.9425745010375977\n",
            "loss.data: tensor(1.5180)\n",
            "w=  1.9837336540222168 | b = 2.9426345825195312\n",
            "loss.data: tensor(1.5180)\n",
            "w=  1.9836738109588623 | b = 2.9426746368408203\n",
            "loss.data: tensor(1.5180)\n",
            "w=  1.9836139678955078 | b = 2.9427146911621094\n",
            "loss.data: tensor(1.5180)\n",
            "w=  1.9836982488632202 | b = 2.942774772644043\n",
            "loss.data: tensor(1.5180)\n",
            "w=  1.9836384057998657 | b = 2.942814826965332\n",
            "loss.data: tensor(1.5180)\n",
            "w=  1.9837226867675781 | b = 2.9428749084472656\n",
            "loss.data: tensor(1.5180)\n",
            "w=  1.9835907220840454 | b = 2.9429049491882324\n",
            "loss.data: tensor(1.5180)\n",
            "w=  1.9836750030517578 | b = 2.942965030670166\n",
            "loss.data: tensor(1.5180)\n",
            "w=  1.9836151599884033 | b = 2.943005084991455\n",
            "loss.data: tensor(1.5180)\n",
            "w=  1.9836994409561157 | b = 2.9430651664733887\n",
            "loss.data: tensor(1.5180)\n",
            "w=  1.9836395978927612 | b = 2.9431052207946777\n",
            "loss.data: tensor(1.5180)\n",
            "w=  1.9835797548294067 | b = 2.943145275115967\n",
            "loss.data: tensor(1.5180)\n",
            "w=  1.9836640357971191 | b = 2.9432053565979004\n",
            "loss.data: tensor(1.5180)\n",
            "w=  1.9836041927337646 | b = 2.9432454109191895\n",
            "loss.data: tensor(1.5180)\n",
            "w=  1.9835443496704102 | b = 2.9432854652404785\n",
            "loss.data: tensor(1.5180)\n",
            "w=  1.9836286306381226 | b = 2.943345546722412\n",
            "loss.data: tensor(1.5180)\n",
            "w=  1.983568787574768 | b = 2.943385601043701\n",
            "loss.data: tensor(1.5180)\n",
            "w=  1.9835089445114136 | b = 2.9434256553649902\n",
            "loss.data: tensor(1.5180)\n",
            "w=  1.983593225479126 | b = 2.943485736846924\n",
            "loss.data: tensor(1.5180)\n",
            "w=  1.9835333824157715 | b = 2.943525791168213\n",
            "loss.data: tensor(1.5180)\n",
            "w=  1.9836176633834839 | b = 2.9435858726501465\n",
            "loss.data: tensor(1.5180)\n",
            "w=  1.9835578203201294 | b = 2.9436259269714355\n",
            "loss.data: tensor(1.5180)\n",
            "w=  1.983497977256775 | b = 2.9436659812927246\n"
          ],
          "name": "stdout"
        }
      ]
    },
    {
      "cell_type": "code",
      "metadata": {
        "id": "m4HRbyUqR3fk",
        "colab_type": "code",
        "outputId": "8647afb2-3f14-4a49-d82b-631d7084998c",
        "colab": {
          "base_uri": "https://localhost:8080/",
          "height": 887
        }
      },
      "source": [
        "# 학습 결과\n",
        "\n",
        "import matplotlib.pyplot as plt\n",
        "\n",
        "plt.figure(figsize=(15,15))\n",
        "plt.scatter(x.numpy(),y_noise.numpy(),s=5,c=\"black\")\n",
        "plt.scatter(x.detach().numpy(),output.detach().numpy(),s=5,c=\"blue\")\n",
        "plt.axis([-10, 10, -30, 30])\n",
        "plt.show()"
      ],
      "execution_count": 42,
      "outputs": [
        {
          "output_type": "display_data",
          "data": {
            "image/png": "[encoded data removed]",
            "text/plain": [
              "<Figure size 1080x1080 with 1 Axes>"
            ]
          },
          "metadata": {
            "tags": []
          }
        }
      ]
    },
    {
      "cell_type": "code",
      "metadata": {
        "id": "ng3P-8XoVgFR",
        "colab_type": "code",
        "colab": {
          "base_uri": "https://localhost:8080/",
          "height": 265
        },
        "outputId": "8ce66a03-eae9-4643-96d2-b6004d07e086"
      },
      "source": [
        "# epoch에 따른 손실의 감소\n",
        "plt.plot(loss_arr)\n",
        "plt.show()"
      ],
      "execution_count": 44,
      "outputs": [
        {
          "output_type": "display_data",
          "data": {
            "image/png": "[encoded data removed]",
            "text/plain": [
              "<Figure size 432x288 with 1 Axes>"
            ]
          },
          "metadata": {
            "tags": []
          }
        }
      ]
    },
    {
      "cell_type": "code",
      "metadata": {
        "id": "s2X2iwQIciLP",
        "colab_type": "code",
        "colab": {}
      },
      "source": [
        ""
      ],
      "execution_count": 0,
      "outputs": []
    }
  ]
}
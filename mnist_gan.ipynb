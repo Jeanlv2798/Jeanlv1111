{
  "nbformat": 4,
  "nbformat_minor": 0,
  "metadata": {
    "colab": {
      "name": "mnist_gan.ipynb",
      "provenance": []
    },
    "kernelspec": {
      "name": "python3",
      "display_name": "Python 3"
    },
    "accelerator": "GPU"
  },
  "cells": [
    {
      "cell_type": "markdown",
      "metadata": {
        "id": "xzh-15QnR44A",
        "colab_type": "text"
      },
      "source": [
        "GAN tutorial 따라하기 :: https://www.tensorflow.org/tutorials/generative/dcgan </br>\n",
        "˙ DCGAN(Deep Convolutional Generative Adversarial Networks)을 이용해서 손으로 쓴 숫자들을 생성 </br>\n",
        "˙ 케라스 Sequential API와 tf.GradientTape 훈련 루프를 사용해 작성"
      ]
    },
    {
      "cell_type": "markdown",
      "metadata": {
        "id": "7J9V8G5mT-JQ",
        "colab_type": "text"
      },
      "source": [
        "GANs(Generative Adversarial Networks, GANs) :: </br>\n",
        "=> 두 개의 모델(생성자 / 감별자)이 적대적인 과정을 통해 동시에 훈련 </br>\n",
        "=> 생성자 generator: 진짜처럼 보이는 이미지(가짜)를 생성 </br>\n",
        "=> 감별자 discriminator : 가짜의 이미지로부터 진짜 구별 </br>\n",
        "==> 훈련하면서 생성자는 점점 실제 같은 이미지를 더 잘 생성, 감별자는 진짜 가짜 식별 능력의 향상, 감별자가 가짜에서 진짜를 더 구별을 못 할 때 평행 상태에 도달\n"
      ]
    },
    {
      "cell_type": "code",
      "metadata": {
        "id": "eHO7uoH1LJPr",
        "colab_type": "code",
        "outputId": "4ab82c96-227f-49dd-913b-22c7fcde407a",
        "colab": {
          "base_uri": "https://localhost:8080/",
          "height": 71
        }
      },
      "source": [
        "from __future__ import absolute_import, division, print_function, unicode_literals\n",
        "!pip install -q tensorflow-gpu==2.0.0-rc1\n",
        "import tensorflow as tf"
      ],
      "execution_count": 0,
      "outputs": [
        {
          "output_type": "stream",
          "text": [
            "\u001b[K     |████████████████████████████████| 380.5MB 43kB/s \n",
            "\u001b[K     |████████████████████████████████| 501kB 16.5MB/s \n",
            "\u001b[K     |████████████████████████████████| 4.3MB 54.1MB/s \n",
            "\u001b[?25h"
          ],
          "name": "stdout"
        }
      ]
    },
    {
      "cell_type": "code",
      "metadata": {
        "id": "Hy-_UEFjWBly",
        "colab_type": "code",
        "outputId": "032674d8-6ee3-4070-beb8-24b813da7fcc",
        "colab": {
          "base_uri": "https://localhost:8080/",
          "height": 35
        }
      },
      "source": [
        "tf.__version__"
      ],
      "execution_count": 0,
      "outputs": [
        {
          "output_type": "execute_result",
          "data": {
            "text/plain": [
              "'2.0.0-rc1'"
            ]
          },
          "metadata": {
            "tags": []
          },
          "execution_count": 2
        }
      ]
    },
    {
      "cell_type": "code",
      "metadata": {
        "id": "k76b3gJCXDD7",
        "colab_type": "code",
        "colab": {}
      },
      "source": [
        "# gif를 만들기 위해 설치\n",
        "!pip install -q imageio"
      ],
      "execution_count": 0,
      "outputs": []
    },
    {
      "cell_type": "code",
      "metadata": {
        "id": "AUp_QFcmXIvj",
        "colab_type": "code",
        "colab": {}
      },
      "source": [
        "# 필요 모듈 import\n",
        "import glob\n",
        "import imageio\n",
        "import matplotlib.pyplot as plt\n",
        "import numpy as np\n",
        "import os\n",
        "import PIL\n",
        "from tensorflow.keras import layers\n",
        "import time\n",
        "from IPython import display"
      ],
      "execution_count": 0,
      "outputs": []
    },
    {
      "cell_type": "code",
      "metadata": {
        "id": "uhRbK9uEXlAC",
        "colab_type": "code",
        "outputId": "744d107c-fa72-4370-e262-ab5089c0e84b",
        "colab": {
          "base_uri": "https://localhost:8080/",
          "height": 73
        }
      },
      "source": [
        "# 데이터셋 로딩 및 준비\n",
        "(train_images, train_labels), (_, _) = tf.keras.datasets.mnist.load_data()"
      ],
      "execution_count": 0,
      "outputs": [
        {
          "output_type": "stream",
          "text": [
            "Downloading data from https://storage.googleapis.com/tensorflow/tf-keras-datasets/mnist.npz\n",
            "11493376/11490434 [==============================] - 0s 0us/step\n"
          ],
          "name": "stdout"
        }
      ]
    },
    {
      "cell_type": "code",
      "metadata": {
        "id": "B3WEdFuUYtj1",
        "colab_type": "code",
        "colab": {}
      },
      "source": [
        "# train_images = 28 x 28사이즈 이미지 6만장 (60000, 28, 28)\n",
        "train_images = train_images.reshape(train_images.shape[0], 28, 28, 1).astype('float32')\n",
        "train_images = (train_images - 127.5) / 127.5 # 이미지 정규화\n"
      ],
      "execution_count": 0,
      "outputs": []
    },
    {
      "cell_type": "code",
      "metadata": {
        "id": "-QlZGpEubGqB",
        "colab_type": "code",
        "colab": {}
      },
      "source": [
        "BUFFER_SIZE = 60000\n",
        "BATCH_SIZE = 256"
      ],
      "execution_count": 0,
      "outputs": []
    },
    {
      "cell_type": "code",
      "metadata": {
        "id": "fJg0yczXZIFY",
        "colab_type": "code",
        "colab": {}
      },
      "source": [
        "# 데이터 배치를 만들고 섞기\n",
        "train_dataset = tf.data.Dataset.from_tensor_slices(train_images).shuffle(BUFFER_SIZE).batch(BATCH_SIZE)"
      ],
      "execution_count": 0,
      "outputs": []
    },
    {
      "cell_type": "markdown",
      "metadata": {
        "id": "CJbvlSFreI6Y",
        "colab_type": "text"
      },
      "source": [
        "# generator 모델 만들기 </br>\n",
        "˙ seed(random noise)로부터 이미지 생성을 위해 (업샘플링) 층을 이용 </br>\n",
        "˙ 처음 Dense는 seed값 인풋으로 받음, 그 후 원하는 28x28x1의 이미지가 나오도록 업샘플링 여러번 반복 </br>\n",
        "˙ tanh을 사용하는 마지막 층 제외한 나머지 각층마다 활성함수로 </br>\n",
        "tf.keraas.layers.LeakyReLU 사용"
      ]
    },
    {
      "cell_type": "code",
      "metadata": {
        "id": "KrvXlDI_bxNO",
        "colab_type": "code",
        "colab": {}
      },
      "source": [
        "# generator 모델 만들기\n",
        "# seed(random noise)로부터 이미지 생성을 위해 (업샘플링) 층을 이용\n",
        "# 업샘플링 :: 이미지 크기복원\n",
        "# 처음 Dense는 seed값 인풋으로 받음, 그 후 원하는 28x28x1의 이미지가 나오도록 업샘플링 여러번 반복\n",
        "# tanh을 사용하는 마지막 층 제외한 나머지 각층마다 활성함수로\n",
        "# tf.keraas.layers.LeakyReLU 사용\n",
        "\n",
        "def make_generator_model():\n",
        "  model = tf.keras.Sequential()\n",
        "  model.add(layers.Dense(7*7*256, use_bias=False, input_shape=(100, )))\n",
        "  model.add(layers.BatchNormalization())\n",
        "  model.add(layers.LeakyReLU())\n",
        "\n",
        "  model.add(layers.Reshape((7, 7, 256)))\n",
        "  assert model.output_shape == (None, 7, 7, 256) # batch_size =0\n",
        "\n",
        "  model.add(layers.Conv2DTranspose(128, (5, 5), strides=(1, 1), padding='same', use_bias=False ))\n",
        "  assert model.output_shape == (None, 7, 7, 128)\n",
        "  model.add(layers.BatchNormalization())\n",
        "  model.add(layers.LeakyReLU())\n",
        "\n",
        "  model.add(layers.Conv2DTranspose(64, (5, 5), strides=(2, 2), padding='same', use_bias=False))\n",
        "  assert model.output_shape == (None, 14, 14, 64)\n",
        "  model.add(layers.BatchNormalization())\n",
        "  model.add(layers.LeakyReLU())\n",
        "\n",
        "  model.add(layers.Conv2DTranspose(1, (5, 5), strides=(2, 2), padding='same', use_bias=False, activation='tanh'))\n",
        "  assert model.output_shape == (None, 28, 28, 1)\n",
        "\n",
        "  return model"
      ],
      "execution_count": 0,
      "outputs": []
    },
    {
      "cell_type": "code",
      "metadata": {
        "id": "ZwZpFxTdgGnI",
        "colab_type": "code",
        "outputId": "3fac69ae-1419-4ca2-c911-854ae3f28edf",
        "colab": {
          "base_uri": "https://localhost:8080/",
          "height": 283
        }
      },
      "source": [
        "# 미훈련된 생성자 이용 이미지 생성\n",
        "generator = make_generator_model()\n",
        "noise = tf.random.normal([1, 100])\n",
        "generated_image = generator(noise, training=False)\n",
        "plt.imshow(generated_image[0, :, :, 0], cmap='gray')"
      ],
      "execution_count": 0,
      "outputs": [
        {
          "output_type": "execute_result",
          "data": {
            "text/plain": [
              "<matplotlib.image.AxesImage at 0x7f8436024d68>"
            ]
          },
          "metadata": {
            "tags": []
          },
          "execution_count": 16
        },
        {
          "output_type": "display_data",
          "data": {
            "image/png": "[encoded data removed]",
            "text/plain": [
              "<Figure size 432x288 with 1 Axes>"
            ]
          },
          "metadata": {
            "tags": []
          }
        }
      ]
    },
    {
      "cell_type": "code",
      "metadata": {
        "id": "KZT5hqE7gTtJ",
        "colab_type": "code",
        "colab": {}
      },
      "source": [
        "# 감별자 \n",
        "# CNN 기반의 이미지 분류\n",
        "def make_discriminator_model():\n",
        "  model = tf.keras.Sequential()\n",
        "  model.add(layers.Conv2D(64, (5, 5), strides=(2, 2), padding='same',\n",
        "                          input_shape=[28, 28, 1]))\n",
        "  model.add(layers.LeakyReLU())\n",
        "  model.add(layers.Dropout(0.3))\n",
        "\n",
        "  model.add(layers.Conv2D(128, (5, 5), strides=(2, 2), padding='same'))\n",
        "  model.add(layers.LeakyReLU())\n",
        "  model.add(layers.Dropout(0.3))\n",
        "\n",
        "  model.add(layers.Flatten())\n",
        "  model.add(layers.Dense(1))\n",
        "\n",
        "  return model"
      ],
      "execution_count": 0,
      "outputs": []
    },
    {
      "cell_type": "code",
      "metadata": {
        "id": "FHXutGZumY61",
        "colab_type": "code",
        "outputId": "986d97da-31bd-4de4-984c-59e3bd853365",
        "colab": {
          "base_uri": "https://localhost:8080/",
          "height": 35
        }
      },
      "source": [
        "# 미훈련된 감별자 사용, 생성 이미지가 진짠지 가짠지 판별\n",
        "# 진짜 이미지에는 양수(positive value), 가짜 이미지에는 음수(negative value) 출력하도록 훈련\n",
        "\n",
        "discriminator = make_discriminator_model()\n",
        "decision = discriminator(generated_image)\n",
        "print(decision)"
      ],
      "execution_count": 0,
      "outputs": [
        {
          "output_type": "stream",
          "text": [
            "tf.Tensor([[-0.00161434]], shape=(1, 1), dtype=float32)\n"
          ],
          "name": "stdout"
        }
      ]
    },
    {
      "cell_type": "code",
      "metadata": {
        "id": "TPXCmcT0mtR3",
        "colab_type": "code",
        "colab": {}
      },
      "source": [
        "# 손실 함수와 옵티마이저 정의\n",
        "# cross_entropy loss를 계산하기 위해 헬퍼(helper) 함수 반환\n",
        "cross_entropy = tf.keras.losses.BinaryCrossentropy(from_logits=True)"
      ],
      "execution_count": 0,
      "outputs": []
    },
    {
      "cell_type": "markdown",
      "metadata": {
        "id": "jBwquZNUo78I",
        "colab_type": "text"
      },
      "source": [
        "# 감별자 손실 함수 </br>\n",
        "˙ 감별자가 가짜 이미지에서 얼마나 진짜를 잘 판별하는지 수치화 </br>\n",
        "˙ 진짜 이미지에 대한 감별자의 예측과 1로 이루어진 행렬을 비교하고, 가짜 이미지에 대한 감별자의 예측과 0으로 이루어진 행렬 비교"
      ]
    },
    {
      "cell_type": "code",
      "metadata": {
        "id": "AXrCor1So2M4",
        "colab_type": "code",
        "colab": {}
      },
      "source": [
        "def discriminator_loss(real_output, fake_output):\n",
        "  real_loss = cross_entropy(tf.ones_like(real_output), real_output)\n",
        "  fake_loss = cross_entropy(tf.zeros_like(fake_output), fake_output)\n",
        "  total_loss = real_loss + fake_loss\n",
        "  return total_loss"
      ],
      "execution_count": 0,
      "outputs": []
    },
    {
      "cell_type": "markdown",
      "metadata": {
        "id": "lfjfm26qqE-v",
        "colab_type": "text"
      },
      "source": [
        "# 생성자 손실 함수 </br>\n",
        "˙ 감별자를 얼마나 잘 속였는지 수치화 </br>\n",
        "˙ 생성자가 run well 이면 감별자는 가자를 진짜(1)로 분류하겠죠? </br>\n",
        "=> 그러니까 가짜 이미지에 대한 감별의 결정을 1로 이루어진 행렬과 비교"
      ]
    },
    {
      "cell_type": "code",
      "metadata": {
        "id": "tDLmh2sdp22q",
        "colab_type": "code",
        "colab": {}
      },
      "source": [
        "def generator_loss(fake_output):\n",
        "  return cross_entropy(tf.ones_like(fake_output), fake_output)"
      ],
      "execution_count": 0,
      "outputs": []
    },
    {
      "cell_type": "code",
      "metadata": {
        "id": "KX1RwLS9rnr6",
        "colab_type": "code",
        "colab": {}
      },
      "source": [
        "generator_optimizer = tf.keras.optimizers.Adam(1e-4)\n",
        "discriminator_optimizer = tf.keras.optimizers.Adam(1e-4)"
      ],
      "execution_count": 0,
      "outputs": []
    },
    {
      "cell_type": "code",
      "metadata": {
        "id": "kkvOLW8Frzal",
        "colab_type": "code",
        "colab": {}
      },
      "source": [
        "# 체크 포인트 저장\n",
        "checkpoint_dir = './training_checkpoints'\n",
        "checkpoint_prefix = os.path.join(checkpoint_dir, 'ckpt')\n",
        "checkpoint = tf.train.Checkpoint(generator_optimizer=generator_optimizer,\n",
        "                                 discriminator_optimizer=discriminator_optimizer,\n",
        "                                 generator=generator,\n",
        "                                 discriminator=discriminator)"
      ],
      "execution_count": 0,
      "outputs": []
    },
    {
      "cell_type": "code",
      "metadata": {
        "id": "m1Ahje7CsQaH",
        "colab_type": "code",
        "colab": {}
      },
      "source": [
        "# 훈련 루프 정의\n",
        "EPOCHS = 50\n",
        "noise_dim = 100\n",
        "num_examples_to_generate = 16\n",
        "# 생성자가 입력으로 랜덤 시드를 받음\n",
        "# 이 시드 값 사용해서 이미지 생성\n",
        "seed = tf.random.normal([num_examples_to_generate, noise_dim])"
      ],
      "execution_count": 0,
      "outputs": []
    },
    {
      "cell_type": "code",
      "metadata": {
        "id": "_mQIw3JUt8O-",
        "colab_type": "code",
        "colab": {}
      },
      "source": [
        "# 감별자를 사용하여 (훈련 세트의) 진짜와 (생성자의) 가짜를 분류\n",
        "# 각 모델의 손실을 계산하고 gradient를 사용, 생성자와 감별자를 업데이트\n",
        "# @tf.function 데코레이터는 함수를 컴파일함\n",
        "@tf.function\n",
        "def train_step(images):\n",
        "  noise = tf.random.normal([BATCH_SIZE, noise_dim])\n",
        "  with tf.GradientTape() as gen_tape, tf.GradientTape() as disc_tape:\n",
        "    generated_images = generator(noise, training=True)\n",
        "\n",
        "    real_output = discriminator(images, training=True)\n",
        "    fake_output = discriminator(generated_images, training=True)\n",
        "\n",
        "    gen_loss = generator_loss(fake_output)\n",
        "    disc_loss = discriminator_loss(real_output, fake_output)\n",
        "\n",
        "  gradients_of_generator = gen_tape.gradient(gen_loss, generator.trainable_variables)\n",
        "  gradients_of_discriminator = disc_tape.gradient(disc_loss, discriminator.trainable_variables)\n",
        "\n",
        "  generator_optimizer.apply_gradients(zip(gradients_of_generator, generator.trainable_variables))\n",
        "  discriminator_optimizer.apply_gradients(zip(gradients_of_discriminator, discriminator.trainable_variables))\n",
        "  "
      ],
      "execution_count": 0,
      "outputs": []
    },
    {
      "cell_type": "code",
      "metadata": {
        "id": "QInXXZrQ7uWK",
        "colab_type": "code",
        "colab": {}
      },
      "source": [
        "def train(dataset, epochs):\n",
        "  for epoch in range(epochs):\n",
        "    start = time.time()\n",
        "\n",
        "    for image_batch in dataset:\n",
        "      train_step(image_batch)\n",
        "\n",
        "    # GIF를 위한 이미지 생성\n",
        "    display.clear_output(wait=True)\n",
        "    generate_and_save_images(generator, epoch + 1, seed)\n",
        "\n",
        "    # 15 epoch마다 모델 저장\n",
        "    if (epoch + 1) % 15 == 0:\n",
        "      checkpoint.save(file_prefix = checkpoint_prefix)\n",
        "\n",
        "    # print(' 에포크 {}에서 걸린 시간은 {}초 입니다'.format(epoch +1, time.time() -start))\n",
        "\n",
        "  # 마지막 에포크가 끝난 후 생성\n",
        "  display.clear_output(wait=True)\n",
        "  generate_and_save_images(generator, epochs, seed)\n"
      ],
      "execution_count": 0,
      "outputs": []
    },
    {
      "cell_type": "code",
      "metadata": {
        "id": "4PI7wcxK7ae1",
        "colab_type": "code",
        "colab": {}
      },
      "source": [
        "# 이미지 생성 및 저장\n",
        "def generate_and_save_images(model, epoch, test_input):\n",
        "  # 'training'이 False로 맞춰진 것을 주목\n",
        "  # (배치정규화 포함) 모든 층들이 추론 모드로 실행\n",
        "  predictions = model(test_input, training=False)\n",
        "\n",
        "  fig = plt.figure(figsize=(4,4))\n",
        "\n",
        "  for i in range(predictions.shape[0]):\n",
        "    plt.subplot(4, 4, i+1)\n",
        "    plt.imshow(predictions[i, :, :, 0] * 127.5 + 127.5, cmap='gray')\n",
        "    plt.axis('off')\n",
        "\n",
        "  plt.savefig('image_at_epoch_{:04d}.png'.format(epoch))\n",
        "  plt.show()"
      ],
      "execution_count": 0,
      "outputs": []
    },
    {
      "cell_type": "code",
      "metadata": {
        "id": "H_RkkOQX_Sac",
        "colab_type": "code",
        "outputId": "23473f15-a4c9-499e-b11c-d2680460ded9",
        "colab": {
          "base_uri": "https://localhost:8080/",
          "height": 284
        }
      },
      "source": [
        "# 모델 훈련\n",
        "# train()을 생성자와 감별자를 동시에 훈련하기 위해 호출\n",
        "# 생성자와 감별자가 서로를 제압하지 않아야함, 학습률이 비슷하면 한 쪽이 \n",
        "# 우세해짐\n",
        "\n",
        "%%time\n",
        "train(train_dataset, EPOCHS)"
      ],
      "execution_count": 0,
      "outputs": [
        {
          "output_type": "display_data",
          "data": {
            "image/png": "[encoded data removed]",
            "text/plain": [
              "<Figure size 288x288 with 16 Axes>"
            ]
          },
          "metadata": {
            "tags": []
          }
        },
        {
          "output_type": "stream",
          "text": [
            "CPU times: user 2min 6s, sys: 27.2 s, total: 2min 33s\n",
            "Wall time: 11min 2s\n"
          ],
          "name": "stdout"
        }
      ]
    },
    {
      "cell_type": "code",
      "metadata": {
        "id": "KlX3uReR_00F",
        "colab_type": "code",
        "outputId": "9f5bf6a2-b331-4fd2-eb46-50cb7e367937",
        "colab": {
          "base_uri": "https://localhost:8080/",
          "height": 35
        }
      },
      "source": [
        "checkpoint.restore(tf.train.latest_checkpoint(checkpoint_dir))"
      ],
      "execution_count": 0,
      "outputs": [
        {
          "output_type": "execute_result",
          "data": {
            "text/plain": [
              "<tensorflow.python.training.tracking.util.CheckpointLoadStatus at 0x7f840a619630>"
            ]
          },
          "metadata": {
            "tags": []
          },
          "execution_count": 30
        }
      ]
    },
    {
      "cell_type": "code",
      "metadata": {
        "id": "I7oe2OxXCea5",
        "colab_type": "code",
        "colab": {}
      },
      "source": [
        "# gif 생성\n",
        "# 에포크 숫자를 사용하여 하나의 이미지를 보여줌\n",
        "def display_image(epoch_no):\n",
        "  return PIL.Image.open('image_at_epoch_{:04d}.png'.format(epoch_no))"
      ],
      "execution_count": 0,
      "outputs": []
    },
    {
      "cell_type": "code",
      "metadata": {
        "id": "mPtuer0ICuLt",
        "colab_type": "code",
        "outputId": "9547ae5e-acfa-4388-9b59-ac31f2d91480",
        "colab": {
          "base_uri": "https://localhost:8080/",
          "height": 305
        }
      },
      "source": [
        "display_image(EPOCHS)"
      ],
      "execution_count": 0,
      "outputs": [
        {
          "output_type": "execute_result",
          "data": {
            "image/png": "[encoded data removed]",
            "text/plain": [
              "<PIL.PngImagePlugin.PngImageFile image mode=RGBA size=288x288 at 0x7F83B96ABA58>"
            ]
          },
          "metadata": {
            "tags": []
          },
          "execution_count": 32
        }
      ]
    },
    {
      "cell_type": "code",
      "metadata": {
        "id": "tJLDlS6gCxTa",
        "colab_type": "code",
        "colab": {}
      },
      "source": [
        "# imageio로 훈련 중 저장된 이미지 사용 gif 애니메이션 만들기\n",
        "anim_file = 'dcgan.gif'\n",
        "with imageio.get_writer(anim_file, mode='I') as writer:\n",
        "  filenames = glob.glob('image*.png')\n",
        "  filenames = sorted(filenames)\n",
        "  last = -1\n",
        "  for i, filename in enumerate(filenames):\n",
        "    frame = 2*(i**0.5)\n",
        "    if round(frame) > round(last):\n",
        "      last = frame\n",
        "    else:\n",
        "      continue\n",
        "    image = imageio.imread(filename)\n",
        "    writer.append_data(image)\n",
        "  image = imageio.imread(filename)\n",
        "  writer.append_data(image)\n",
        "\n",
        "import IPython\n",
        "if IPython.version_info > (6, 2, 0, ''):\n",
        "  display.Image(filename=anim_file)\n"
      ],
      "execution_count": 0,
      "outputs": []
    },
    {
      "cell_type": "code",
      "metadata": {
        "id": "udQvyg-mEPOs",
        "colab_type": "code",
        "colab": {}
      },
      "source": [
        "try:\n",
        "  from google.colab import files\n",
        "except ImportError:\n",
        "  pass\n",
        "else:\n",
        "  files.download(anim_file)"
      ],
      "execution_count": 0,
      "outputs": []
    },
    {
      "cell_type": "code",
      "metadata": {
        "id": "UFz95WKmEi0-",
        "colab_type": "code",
        "colab": {}
      },
      "source": [
        ""
      ],
      "execution_count": 0,
      "outputs": []
    }
  ]
}
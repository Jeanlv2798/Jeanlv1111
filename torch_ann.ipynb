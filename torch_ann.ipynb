{
  "nbformat": 4,
  "nbformat_minor": 0,
  "metadata": {
    "colab": {
      "name": "torch_ann.ipynb",
      "provenance": [],
      "collapsed_sections": [],
      "authorship_tag": "ABX9TyOIcOhjFcV1Tdn/ROfx+fK+"
    },
    "kernelspec": {
      "name": "python3",
      "display_name": "Python 3"
    },
    "accelerator": "GPU"
  },
  "cells": [
    {
      "cell_type": "markdown",
      "metadata": {
        "id": "uXYyNOwOKdKj",
        "colab_type": "text"
      },
      "source": [
        "˙ 최건호, 『파이토치 첫걸음』, 한빛미디어 Ch04 ANN 부분을 토대로 학습합니다"
      ]
    },
    {
      "cell_type": "code",
      "metadata": {
        "id": "JyeUEJnLVuyf",
        "colab_type": "code",
        "colab": {}
      },
      "source": [
        "# 필요 모듈 import\n",
        "import torch\n",
        "import torch.nn as nn\n",
        "import torch.optim as optim\n",
        "import torch.nn.init as init"
      ],
      "execution_count": 0,
      "outputs": []
    },
    {
      "cell_type": "code",
      "metadata": {
        "id": "ibpsULdwmx1b",
        "colab_type": "code",
        "colab": {}
      },
      "source": [
        "data = 1000\n",
        "epochs = 10000\n",
        "noise = init.normal_(torch.Tensor(data, 1), std=1)\n",
        "x = init.uniform_(torch.Tensor(data, 1), -15, 15)\n",
        "y = (x**2) + 3\n",
        "y_noise = y + noise"
      ],
      "execution_count": 0,
      "outputs": []
    },
    {
      "cell_type": "code",
      "metadata": {
        "id": "iMTbSw5OnMt4",
        "colab_type": "code",
        "colab": {}
      },
      "source": [
        "model = nn.Sequential( # nn.Sequential 클래스는 nn.Linear같은 모듈들을 인수로 받아서 순서대로 정렬, 입력값이 들어오면 순서대로 모듈 실행해 결과값 리턴\n",
        "    nn.Linear(1, 6),\n",
        "    nn.ReLU(),\n",
        "    nn.Linear(6, 10),\n",
        "    nn.ReLU(),\n",
        "    nn.Linear(10, 6),\n",
        "    nn.ReLU(),\n",
        "    nn.Linear(6, 1)\n",
        ") # 깊이가 길어질수록 하나하나 실행하는 것보다 묶어서 연산하는 것이 편리"
      ],
      "execution_count": 0,
      "outputs": []
    },
    {
      "cell_type": "code",
      "metadata": {
        "id": "sExgVz0VnkD1",
        "colab_type": "code",
        "colab": {}
      },
      "source": [
        "loss_func = nn.L1Loss()\n",
        "optimizer = optim.SGD(model.parameters(), lr=0.0002)"
      ],
      "execution_count": 0,
      "outputs": []
    },
    {
      "cell_type": "code",
      "metadata": {
        "id": "H1v7LXNqnuBb",
        "colab_type": "code",
        "colab": {}
      },
      "source": [
        "loss_array = []\n",
        "for i in range(num_epoch):\n",
        "  optimizer.zero_grad()\n",
        "  output = model(x)\n",
        "  loss = loss_func(output, y_noise)\n",
        "  loss.backward()\n",
        "  optimizer.step() # model.params에서 리턴되는 변수의 기울기에 학습률 0.01을 곱해서 빼줌\n",
        "\n",
        "  loss_array.append(loss)"
      ],
      "execution_count": 0,
      "outputs": []
    },
    {
      "cell_type": "code",
      "metadata": {
        "id": "4sFK8WG4Dvvr",
        "colab_type": "code",
        "outputId": "92a4fcba-e834-4afe-cef8-96904879a2f3",
        "colab": {
          "base_uri": "https://localhost:8080/",
          "height": 268
        }
      },
      "source": [
        "import matplotlib.pyplot as plt\n",
        "plt.plot(loss_array)\n",
        "plt.show()"
      ],
      "execution_count": 0,
      "outputs": [
        {
          "output_type": "display_data",
          "data": {
            "image/png": "[encoded data removed]",
            "text/plain": [
              "<Figure size 432x288 with 1 Axes>"
            ]
          },
          "metadata": {
            "tags": []
          }
        }
      ]
    },
    {
      "cell_type": "code",
      "metadata": {
        "id": "ix9mbi9PGONA",
        "colab_type": "code",
        "colab": {}
      },
      "source": [
        ""
      ],
      "execution_count": 0,
      "outputs": []
    }
  ]
}